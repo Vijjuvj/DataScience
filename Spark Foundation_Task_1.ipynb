{
 "cells": [
  {
   "cell_type": "markdown",
   "id": "ba0a3b43",
   "metadata": {},
   "source": [
    "# The Sparks Foundation"
   ]
  },
  {
   "cell_type": "markdown",
   "id": "604fa28a",
   "metadata": {},
   "source": [
    "### Name: Maddu Vijay Kumar"
   ]
  },
  {
   "cell_type": "markdown",
   "id": "a8cfca02",
   "metadata": {},
   "source": [
    "## Task-1:"
   ]
  },
  {
   "cell_type": "markdown",
   "id": "418b153e",
   "metadata": {},
   "source": [
    "#### Predict the percentage of a student based on the no. of study hours."
   ]
  },
  {
   "cell_type": "markdown",
   "id": "02823991",
   "metadata": {},
   "source": [
    "#### To Predict - What will be predicted score if a student studies for 9.25 hrs/ day?"
   ]
  },
  {
   "cell_type": "markdown",
   "id": "8a10d645",
   "metadata": {},
   "source": [
    "# Step-1:"
   ]
  },
  {
   "cell_type": "markdown",
   "id": "993dd1f0",
   "metadata": {},
   "source": [
    "## Importing All Libraries that are required"
   ]
  },
  {
   "cell_type": "code",
   "execution_count": 117,
   "id": "8d1d2338",
   "metadata": {},
   "outputs": [],
   "source": [
    "import numpy as np\n",
    "import pandas as pd\n",
    "import matplotlib.pyplot as plt\n",
    "from sklearn.linear_model import LinearRegression\n",
    "import seaborn as sns\n",
    "from sklearn.model_selection import train_test_split\n",
    "from sklearn import metrics\n",
    "from sklearn.metrics import r2_score"
   ]
  },
  {
   "cell_type": "markdown",
   "id": "0cff526d",
   "metadata": {},
   "source": [
    "# Step-2:"
   ]
  },
  {
   "cell_type": "markdown",
   "id": "deb6da46",
   "metadata": {},
   "source": [
    "## Importing Required DataSet"
   ]
  },
  {
   "cell_type": "code",
   "execution_count": 43,
   "id": "d13ff4d0",
   "metadata": {},
   "outputs": [],
   "source": [
    "url=\"http://bit.ly/w-data\"\n",
    "dataset=pd.read_csv(url)"
   ]
  },
  {
   "cell_type": "code",
   "execution_count": 44,
   "id": "0d0b3c96",
   "metadata": {},
   "outputs": [
    {
     "data": {
      "text/html": [
       "<div>\n",
       "<style scoped>\n",
       "    .dataframe tbody tr th:only-of-type {\n",
       "        vertical-align: middle;\n",
       "    }\n",
       "\n",
       "    .dataframe tbody tr th {\n",
       "        vertical-align: top;\n",
       "    }\n",
       "\n",
       "    .dataframe thead th {\n",
       "        text-align: right;\n",
       "    }\n",
       "</style>\n",
       "<table border=\"1\" class=\"dataframe\">\n",
       "  <thead>\n",
       "    <tr style=\"text-align: right;\">\n",
       "      <th></th>\n",
       "      <th>Hours</th>\n",
       "      <th>Scores</th>\n",
       "    </tr>\n",
       "  </thead>\n",
       "  <tbody>\n",
       "    <tr>\n",
       "      <th>0</th>\n",
       "      <td>2.5</td>\n",
       "      <td>21</td>\n",
       "    </tr>\n",
       "    <tr>\n",
       "      <th>1</th>\n",
       "      <td>5.1</td>\n",
       "      <td>47</td>\n",
       "    </tr>\n",
       "    <tr>\n",
       "      <th>2</th>\n",
       "      <td>3.2</td>\n",
       "      <td>27</td>\n",
       "    </tr>\n",
       "    <tr>\n",
       "      <th>3</th>\n",
       "      <td>8.5</td>\n",
       "      <td>75</td>\n",
       "    </tr>\n",
       "    <tr>\n",
       "      <th>4</th>\n",
       "      <td>3.5</td>\n",
       "      <td>30</td>\n",
       "    </tr>\n",
       "    <tr>\n",
       "      <th>5</th>\n",
       "      <td>1.5</td>\n",
       "      <td>20</td>\n",
       "    </tr>\n",
       "    <tr>\n",
       "      <th>6</th>\n",
       "      <td>9.2</td>\n",
       "      <td>88</td>\n",
       "    </tr>\n",
       "    <tr>\n",
       "      <th>7</th>\n",
       "      <td>5.5</td>\n",
       "      <td>60</td>\n",
       "    </tr>\n",
       "    <tr>\n",
       "      <th>8</th>\n",
       "      <td>8.3</td>\n",
       "      <td>81</td>\n",
       "    </tr>\n",
       "    <tr>\n",
       "      <th>9</th>\n",
       "      <td>2.7</td>\n",
       "      <td>25</td>\n",
       "    </tr>\n",
       "  </tbody>\n",
       "</table>\n",
       "</div>"
      ],
      "text/plain": [
       "   Hours  Scores\n",
       "0    2.5      21\n",
       "1    5.1      47\n",
       "2    3.2      27\n",
       "3    8.5      75\n",
       "4    3.5      30\n",
       "5    1.5      20\n",
       "6    9.2      88\n",
       "7    5.5      60\n",
       "8    8.3      81\n",
       "9    2.7      25"
      ]
     },
     "execution_count": 44,
     "metadata": {},
     "output_type": "execute_result"
    }
   ],
   "source": [
    "dataset.head(10)"
   ]
  },
  {
   "cell_type": "markdown",
   "id": "32d7ef32",
   "metadata": {},
   "source": [
    "# Step-3:"
   ]
  },
  {
   "cell_type": "markdown",
   "id": "2cf4f567",
   "metadata": {},
   "source": [
    "## Checking if there any null values in the dataset if null values clean the data"
   ]
  },
  {
   "cell_type": "code",
   "execution_count": 45,
   "id": "f1302277",
   "metadata": {},
   "outputs": [
    {
     "data": {
      "text/plain": [
       "Hours     0\n",
       "Scores    0\n",
       "dtype: int64"
      ]
     },
     "execution_count": 45,
     "metadata": {},
     "output_type": "execute_result"
    }
   ],
   "source": [
    "dataset.isnull().sum()"
   ]
  },
  {
   "cell_type": "markdown",
   "id": "41ef5ecc",
   "metadata": {},
   "source": [
    "# Step-4:"
   ]
  },
  {
   "cell_type": "markdown",
   "id": "dc35080c",
   "metadata": {},
   "source": [
    "## Visualizing the distribution of Scores"
   ]
  },
  {
   "cell_type": "code",
   "execution_count": 46,
   "id": "c1acdc6b",
   "metadata": {},
   "outputs": [
    {
     "data": {
      "image/png": "[encoded data removed]",
      "text/plain": [
       "<Figure size 640x480 with 1 Axes>"
      ]
     },
     "metadata": {},
     "output_type": "display_data"
    }
   ],
   "source": [
    "dataset.plot(x=\"Hours\",y=\"Scores\",style=\"o\")\n",
    "plt.title(\"Hours Vs Percentage\")\n",
    "plt.xlabel(\"Hours Studied\")\n",
    "plt.ylabel(\"Perecntage Score\")\n",
    "plt.show()"
   ]
  },
  {
   "cell_type": "markdown",
   "id": "9e2932f1",
   "metadata": {},
   "source": [
    "#### From the graph above it is clearly describes that there is a positive linear relation between the number of hours studied and percentage score"
   ]
  },
  {
   "cell_type": "markdown",
   "id": "b8b2fcab",
   "metadata": {},
   "source": [
    "# Step-5:"
   ]
  },
  {
   "cell_type": "markdown",
   "id": "662bedb8",
   "metadata": {},
   "source": [
    "## Preparing the data"
   ]
  },
  {
   "cell_type": "code",
   "execution_count": 52,
   "id": "71fca52b",
   "metadata": {},
   "outputs": [],
   "source": [
    "columns=list(dataset.columns)\n",
    "X=dataset.iloc[:,:-1].values\n",
    "y=dataset.iloc[:,1].values"
   ]
  },
  {
   "cell_type": "markdown",
   "id": "145f3253",
   "metadata": {},
   "source": [
    "#### Now here we have our attributes and labels , the next step is to split this data into training and test sets. we will do it using train_test_split() method"
   ]
  },
  {
   "cell_type": "code",
   "execution_count": 53,
   "id": "e26d9655",
   "metadata": {},
   "outputs": [],
   "source": [
    "X_train,X_test,y_train,y_test=train_test_split(X,y,test_size=0.2,random_state=0)\n"
   ]
  },
  {
   "cell_type": "markdown",
   "id": "ce88bf81",
   "metadata": {},
   "source": [
    "# Step-6:"
   ]
  },
  {
   "cell_type": "markdown",
   "id": "91d1bc63",
   "metadata": {},
   "source": [
    "## Train the Algorithm"
   ]
  },
  {
   "cell_type": "markdown",
   "id": "2deb0bfe",
   "metadata": {},
   "source": [
    "#### Now we have split our data into training and test sets . Now we have to train our Algorithm"
   ]
  },
  {
   "cell_type": "code",
   "execution_count": 54,
   "id": "aa992227",
   "metadata": {},
   "outputs": [
    {
     "name": "stdout",
     "output_type": "stream",
     "text": [
      "Training Completed\n"
     ]
    }
   ],
   "source": [
    "#create a linear regression object\n",
    "regressor=LinearRegression()\n",
    "\n",
    "#Train the model\n",
    "\n",
    "regressor.fit(X_train,y_train)\n",
    "print(\"Training Completed\")"
   ]
  },
  {
   "cell_type": "code",
   "execution_count": 119,
   "id": "f161860d",
   "metadata": {},
   "outputs": [
    {
     "data": {
      "image/png": "[encoded data removed]",
      "text/plain": [
       "<Figure size 640x480 with 1 Axes>"
      ]
     },
     "metadata": {},
     "output_type": "display_data"
    }
   ],
   "source": [
    "#plot the Regression_Line \n",
    "line=regressor.coef_*X+regressor.intercept_\n",
    "plt.scatter(X_train,y_train )\n",
    "plt.plot(X,line,color=\"red\")\n",
    "plt.show()"
   ]
  },
  {
   "cell_type": "markdown",
   "id": "a0f9c5a7",
   "metadata": {},
   "source": [
    "# Step-7:"
   ]
  },
  {
   "cell_type": "markdown",
   "id": "4286c934",
   "metadata": {},
   "source": [
    "## Making Predictions"
   ]
  },
  {
   "cell_type": "code",
   "execution_count": 79,
   "id": "d2109b85",
   "metadata": {},
   "outputs": [
    {
     "data": {
      "text/plain": [
       "array([16.88414476, 33.73226078, 75.357018  , 26.79480124, 60.49103328])"
      ]
     },
     "execution_count": 79,
     "metadata": {},
     "output_type": "execute_result"
    }
   ],
   "source": [
    "y_pred=regressor.predict(X_test)\n",
    "y_pred "
   ]
  },
  {
   "cell_type": "markdown",
   "id": "c148d82c",
   "metadata": {},
   "source": [
    "# Step-8:"
   ]
  },
  {
   "cell_type": "markdown",
   "id": "47c8ae2d",
   "metadata": {},
   "source": [
    "## Visualizing Test Data"
   ]
  },
  {
   "cell_type": "code",
   "execution_count": 98,
   "id": "75b30279",
   "metadata": {},
   "outputs": [
    {
     "data": {
      "image/png": "[encoded data removed]",
      "text/plain": [
       "<Figure size 640x480 with 1 Axes>"
      ]
     },
     "metadata": {},
     "output_type": "display_data"
    }
   ],
   "source": [
    "plt.scatter(X_test,y_test,color=\"b\")\n",
    "plt.plot(X_test,y_pred)\n",
    "plt.show()"
   ]
  },
  {
   "cell_type": "markdown",
   "id": "62da3d21",
   "metadata": {},
   "source": [
    "### Comparing Actual Vs Predicted Values"
   ]
  },
  {
   "cell_type": "code",
   "execution_count": 101,
   "id": "3fefe7f0",
   "metadata": {},
   "outputs": [
    {
     "data": {
      "text/html": [
       "<div>\n",
       "<style scoped>\n",
       "    .dataframe tbody tr th:only-of-type {\n",
       "        vertical-align: middle;\n",
       "    }\n",
       "\n",
       "    .dataframe tbody tr th {\n",
       "        vertical-align: top;\n",
       "    }\n",
       "\n",
       "    .dataframe thead th {\n",
       "        text-align: right;\n",
       "    }\n",
       "</style>\n",
       "<table border=\"1\" class=\"dataframe\">\n",
       "  <thead>\n",
       "    <tr style=\"text-align: right;\">\n",
       "      <th></th>\n",
       "      <th>Hours</th>\n",
       "      <th>Actual Score</th>\n",
       "      <th>Predicted Score</th>\n",
       "    </tr>\n",
       "  </thead>\n",
       "  <tbody>\n",
       "    <tr>\n",
       "      <th>0</th>\n",
       "      <td>1.5</td>\n",
       "      <td>20</td>\n",
       "      <td>16.884145</td>\n",
       "    </tr>\n",
       "    <tr>\n",
       "      <th>1</th>\n",
       "      <td>3.2</td>\n",
       "      <td>27</td>\n",
       "      <td>33.732261</td>\n",
       "    </tr>\n",
       "    <tr>\n",
       "      <th>2</th>\n",
       "      <td>7.4</td>\n",
       "      <td>69</td>\n",
       "      <td>75.357018</td>\n",
       "    </tr>\n",
       "    <tr>\n",
       "      <th>3</th>\n",
       "      <td>2.5</td>\n",
       "      <td>30</td>\n",
       "      <td>26.794801</td>\n",
       "    </tr>\n",
       "    <tr>\n",
       "      <th>4</th>\n",
       "      <td>5.9</td>\n",
       "      <td>62</td>\n",
       "      <td>60.491033</td>\n",
       "    </tr>\n",
       "  </tbody>\n",
       "</table>\n",
       "</div>"
      ],
      "text/plain": [
       "   Hours  Actual Score  Predicted Score\n",
       "0    1.5            20        16.884145\n",
       "1    3.2            27        33.732261\n",
       "2    7.4            69        75.357018\n",
       "3    2.5            30        26.794801\n",
       "4    5.9            62        60.491033"
      ]
     },
     "execution_count": 101,
     "metadata": {},
     "output_type": "execute_result"
    }
   ],
   "source": [
    "#make a dataframe\n",
    "df=pd.DataFrame({\"Hours\":X_test.reshape(-1),'Actual Score': y_test,'Predicted Score': y_pred})\n",
    "df"
   ]
  },
  {
   "cell_type": "markdown",
   "id": "6dcba177",
   "metadata": {},
   "source": [
    "# Step-9:"
   ]
  },
  {
   "cell_type": "markdown",
   "id": "01c2f7fb",
   "metadata": {},
   "source": [
    "## Predicting Percentage Score for given Studied hours"
   ]
  },
  {
   "cell_type": "code",
   "execution_count": 66,
   "id": "fa4a132b",
   "metadata": {},
   "outputs": [
    {
     "name": "stdout",
     "output_type": "stream",
     "text": [
      "No.of Hours = [9.25]\n",
      "Predicted Percentage Score = [93.69173249]\n"
     ]
    }
   ],
   "source": [
    "hours=[9.25]\n",
    "res=regressor.predict([hours])\n",
    "print(\"No.of Hours = {}\".format(hours))\n",
    "print(\"Predicted Percentage Score = {}\".format(res))"
   ]
  },
  {
   "cell_type": "code",
   "execution_count": 67,
   "id": "1cd72e51",
   "metadata": {},
   "outputs": [
    {
     "data": {
      "text/plain": [
       "array([9.91065648])"
      ]
     },
     "execution_count": 67,
     "metadata": {},
     "output_type": "execute_result"
    }
   ],
   "source": [
    "regressor.coef_"
   ]
  },
  {
   "cell_type": "code",
   "execution_count": 68,
   "id": "09de49a4",
   "metadata": {},
   "outputs": [
    {
     "data": {
      "text/plain": [
       "2.018160041434662"
      ]
     },
     "execution_count": 68,
     "metadata": {},
     "output_type": "execute_result"
    }
   ],
   "source": [
    "regressor.intercept_"
   ]
  },
  {
   "cell_type": "markdown",
   "id": "62b759f6",
   "metadata": {},
   "source": [
    "# Step-10:"
   ]
  },
  {
   "cell_type": "markdown",
   "id": "faf16918",
   "metadata": {},
   "source": [
    "## Visualizing the accuracy of the model"
   ]
  },
  {
   "cell_type": "code",
   "execution_count": 102,
   "id": "d342de5a",
   "metadata": {},
   "outputs": [
    {
     "data": {
      "text/html": [
       "<div>\n",
       "<style scoped>\n",
       "    .dataframe tbody tr th:only-of-type {\n",
       "        vertical-align: middle;\n",
       "    }\n",
       "\n",
       "    .dataframe tbody tr th {\n",
       "        vertical-align: top;\n",
       "    }\n",
       "\n",
       "    .dataframe thead th {\n",
       "        text-align: right;\n",
       "    }\n",
       "</style>\n",
       "<table border=\"1\" class=\"dataframe\">\n",
       "  <thead>\n",
       "    <tr style=\"text-align: right;\">\n",
       "      <th></th>\n",
       "      <th>Hours</th>\n",
       "      <th>Actual Score</th>\n",
       "      <th>Predicted Score</th>\n",
       "    </tr>\n",
       "  </thead>\n",
       "  <tbody>\n",
       "    <tr>\n",
       "      <th>0</th>\n",
       "      <td>1.5</td>\n",
       "      <td>20</td>\n",
       "      <td>16.884145</td>\n",
       "    </tr>\n",
       "    <tr>\n",
       "      <th>3</th>\n",
       "      <td>2.5</td>\n",
       "      <td>30</td>\n",
       "      <td>26.794801</td>\n",
       "    </tr>\n",
       "    <tr>\n",
       "      <th>1</th>\n",
       "      <td>3.2</td>\n",
       "      <td>27</td>\n",
       "      <td>33.732261</td>\n",
       "    </tr>\n",
       "    <tr>\n",
       "      <th>4</th>\n",
       "      <td>5.9</td>\n",
       "      <td>62</td>\n",
       "      <td>60.491033</td>\n",
       "    </tr>\n",
       "    <tr>\n",
       "      <th>2</th>\n",
       "      <td>7.4</td>\n",
       "      <td>69</td>\n",
       "      <td>75.357018</td>\n",
       "    </tr>\n",
       "  </tbody>\n",
       "</table>\n",
       "</div>"
      ],
      "text/plain": [
       "   Hours  Actual Score  Predicted Score\n",
       "0    1.5            20        16.884145\n",
       "3    2.5            30        26.794801\n",
       "1    3.2            27        33.732261\n",
       "4    5.9            62        60.491033\n",
       "2    7.4            69        75.357018"
      ]
     },
     "execution_count": 102,
     "metadata": {},
     "output_type": "execute_result"
    }
   ],
   "source": [
    "#Sort the data based on hours\n",
    "df_sorted=df.sort_values(by=\"Hours\")\n",
    "df_sorted"
   ]
  },
  {
   "cell_type": "code",
   "execution_count": 109,
   "id": "a8bfa1ca",
   "metadata": {},
   "outputs": [
    {
     "data": {
      "image/png": "[encoded data removed]",
      "text/plain": [
       "<Figure size 640x480 with 1 Axes>"
      ]
     },
     "metadata": {},
     "output_type": "display_data"
    }
   ],
   "source": [
    "a=sns.kdeplot(df_sorted[\"Actual Score\"],color=\"green\",label=\"Actual_Score\")\n",
    "b=sns.kdeplot(df_sorted[\"Predicted Score\"],color=\"blue\",label=\"Predicted Score\")\n",
    "plt.legend()\n",
    "plt.title(\"Actual Score Vs Predicted Score:\")\n",
    "plt.grid()\n",
    "plt.show()"
   ]
  },
  {
   "cell_type": "markdown",
   "id": "9f45b631",
   "metadata": {},
   "source": [
    "## Predict Percentage Scores for Sample Data"
   ]
  },
  {
   "cell_type": "code",
   "execution_count": 92,
   "id": "b9e8c7b6",
   "metadata": {},
   "outputs": [
    {
     "name": "stdout",
     "output_type": "stream",
     "text": [
      "Enter Studied hours:2.4\n"
     ]
    }
   ],
   "source": [
    "hr=list(map(float,input(\"Enter Studied hours:\").split()))\n",
    "scores=regressor.predict([hr])"
   ]
  },
  {
   "cell_type": "code",
   "execution_count": 93,
   "id": "5d033efd",
   "metadata": {},
   "outputs": [
    {
     "name": "stdout",
     "output_type": "stream",
     "text": [
      "Percentage Score =[25.80373559] \n"
     ]
    }
   ],
   "source": [
    "print(\"Percentage Score ={} \".format(scores))"
   ]
  },
  {
   "cell_type": "markdown",
   "id": "2990ff9a",
   "metadata": {},
   "source": [
    "# Step-11:"
   ]
  },
  {
   "cell_type": "markdown",
   "id": "974985f5",
   "metadata": {},
   "source": [
    "## Evaluate the model"
   ]
  },
  {
   "cell_type": "markdown",
   "id": "00223b29",
   "metadata": {},
   "source": [
    "#### The final step is to evaluate the model to check how well our model is performing to predict"
   ]
  },
  {
   "cell_type": "code",
   "execution_count": 116,
   "id": "2beb1b98",
   "metadata": {},
   "outputs": [
    {
     "name": "stdout",
     "output_type": "stream",
     "text": [
      "Absolute Mean Error =  4.183859899002982\n",
      "Correlation= 0.9515510725211552\n",
      "Accuracy =  0.9454906892105354\n"
     ]
    }
   ],
   "source": [
    "print(\"Absolute Mean Error = \",metrics.mean_absolute_error(y_test,y_pred))\n",
    "print(\"Correlation=\", r2_score(y_train,regressor.predict(X_train)))\n",
    "print(\"Accuracy = \", r2_score(y_test,y_pred))"
   ]
  }
 ],
 "metadata": {
  "kernelspec": {
   "display_name": "Python 3 (ipykernel)",
   "language": "python",
   "name": "python3"
  },
  "language_info": {
   "codemirror_mode": {
    "name": "ipython",
    "version": 3
   },
   "file_extension": ".py",
   "mimetype": "text/x-python",
   "name": "python",
   "nbconvert_exporter": "python",
   "pygments_lexer": "ipython3",
   "version": "3.9.13"
  }
 },
 "nbformat": 4,
 "nbformat_minor": 5
}
